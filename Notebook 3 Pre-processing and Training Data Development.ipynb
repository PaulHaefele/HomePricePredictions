{
 "cells": [
  {
   "cell_type": "markdown",
   "id": "dbb4cd9d",
   "metadata": {},
   "source": [
    "# House Price Prediction: Advanced Regression Techniques: Pre-processing and Training Data Development"
   ]
  },
  {
   "cell_type": "code",
   "execution_count": 1,
   "id": "3c374083",
   "metadata": {},
   "outputs": [
    {
     "data": {
      "application/javascript": [
       "\n",
       "            setTimeout(function() {\n",
       "                var nbb_cell_id = 1;\n",
       "                var nbb_unformatted_code = \"%load_ext nb_black\";\n",
       "                var nbb_formatted_code = \"%load_ext nb_black\";\n",
       "                var nbb_cells = Jupyter.notebook.get_cells();\n",
       "                for (var i = 0; i < nbb_cells.length; ++i) {\n",
       "                    if (nbb_cells[i].input_prompt_number == nbb_cell_id) {\n",
       "                        if (nbb_cells[i].get_text() == nbb_unformatted_code) {\n",
       "                             nbb_cells[i].set_text(nbb_formatted_code);\n",
       "                        }\n",
       "                        break;\n",
       "                    }\n",
       "                }\n",
       "            }, 500);\n",
       "            "
      ],
      "text/plain": [
       "<IPython.core.display.Javascript object>"
      ]
     },
     "metadata": {},
     "output_type": "display_data"
    }
   ],
   "source": [
    "%load_ext nb_black"
   ]
  },
  {
   "cell_type": "code",
   "execution_count": 2,
   "id": "3fdda62d",
   "metadata": {},
   "outputs": [
    {
     "data": {
      "application/javascript": [
       "\n",
       "            setTimeout(function() {\n",
       "                var nbb_cell_id = 2;\n",
       "                var nbb_unformatted_code = \"import pandas as pd\\nimport numpy as np\\nimport matplotlib.pyplot as plt\\nfrom sklearn.decomposition import PCA\\nfrom sklearn.preprocessing import StandardScaler\\nfrom mpl_toolkits.mplot3d import Axes3D\\nfrom sklearn.model_selection import train_test_split\";\n",
       "                var nbb_formatted_code = \"import pandas as pd\\nimport numpy as np\\nimport matplotlib.pyplot as plt\\nfrom sklearn.decomposition import PCA\\nfrom sklearn.preprocessing import StandardScaler\\nfrom mpl_toolkits.mplot3d import Axes3D\\nfrom sklearn.model_selection import train_test_split\";\n",
       "                var nbb_cells = Jupyter.notebook.get_cells();\n",
       "                for (var i = 0; i < nbb_cells.length; ++i) {\n",
       "                    if (nbb_cells[i].input_prompt_number == nbb_cell_id) {\n",
       "                        if (nbb_cells[i].get_text() == nbb_unformatted_code) {\n",
       "                             nbb_cells[i].set_text(nbb_formatted_code);\n",
       "                        }\n",
       "                        break;\n",
       "                    }\n",
       "                }\n",
       "            }, 500);\n",
       "            "
      ],
      "text/plain": [
       "<IPython.core.display.Javascript object>"
      ]
     },
     "metadata": {},
     "output_type": "display_data"
    }
   ],
   "source": [
    "import pandas as pd\n",
    "import numpy as np\n",
    "import matplotlib.pyplot as plt\n",
    "from sklearn.decomposition import PCA\n",
    "from sklearn.preprocessing import StandardScaler\n",
    "from mpl_toolkits.mplot3d import Axes3D\n",
    "from sklearn.model_selection import train_test_split"
   ]
  },
  {
   "cell_type": "markdown",
   "id": "bb5d3205",
   "metadata": {},
   "source": [
    "Load in data from both train and test splits. Standardize the data and then perform PCA for feature selection and dimensionality reduction"
   ]
  },
  {
   "cell_type": "code",
   "execution_count": 3,
   "id": "2f2c561a",
   "metadata": {},
   "outputs": [
    {
     "data": {
      "application/javascript": [
       "\n",
       "            setTimeout(function() {\n",
       "                var nbb_cell_id = 3;\n",
       "                var nbb_unformatted_code = \"train_set = pd.read_csv(\\\"new_training_set.csv\\\")\\ntest_set = pd.read_csv(\\\"new_test_set.csv\\\")\";\n",
       "                var nbb_formatted_code = \"train_set = pd.read_csv(\\\"new_training_set.csv\\\")\\ntest_set = pd.read_csv(\\\"new_test_set.csv\\\")\";\n",
       "                var nbb_cells = Jupyter.notebook.get_cells();\n",
       "                for (var i = 0; i < nbb_cells.length; ++i) {\n",
       "                    if (nbb_cells[i].input_prompt_number == nbb_cell_id) {\n",
       "                        if (nbb_cells[i].get_text() == nbb_unformatted_code) {\n",
       "                             nbb_cells[i].set_text(nbb_formatted_code);\n",
       "                        }\n",
       "                        break;\n",
       "                    }\n",
       "                }\n",
       "            }, 500);\n",
       "            "
      ],
      "text/plain": [
       "<IPython.core.display.Javascript object>"
      ]
     },
     "metadata": {},
     "output_type": "display_data"
    }
   ],
   "source": [
    "train_set = pd.read_csv(\"new_training_set.csv\")\n",
    "test_set = pd.read_csv(\"new_test_set.csv\")"
   ]
  },
  {
   "cell_type": "code",
   "execution_count": 4,
   "id": "c320b3e6",
   "metadata": {
    "scrolled": true
   },
   "outputs": [
    {
     "data": {
      "text/html": [
       "<div>\n",
       "<style scoped>\n",
       "    .dataframe tbody tr th:only-of-type {\n",
       "        vertical-align: middle;\n",
       "    }\n",
       "\n",
       "    .dataframe tbody tr th {\n",
       "        vertical-align: top;\n",
       "    }\n",
       "\n",
       "    .dataframe thead th {\n",
       "        text-align: right;\n",
       "    }\n",
       "</style>\n",
       "<table border=\"1\" class=\"dataframe\">\n",
       "  <thead>\n",
       "    <tr style=\"text-align: right;\">\n",
       "      <th></th>\n",
       "      <th>OverallQual</th>\n",
       "      <th>YearBuilt</th>\n",
       "      <th>YearRemodAdd</th>\n",
       "      <th>MasVnrArea</th>\n",
       "      <th>ExterQual</th>\n",
       "      <th>BsmtQual</th>\n",
       "      <th>BsmtExposure</th>\n",
       "      <th>BsmtFinSF1</th>\n",
       "      <th>TotalBsmtSF</th>\n",
       "      <th>HeatingQC</th>\n",
       "      <th>...</th>\n",
       "      <th>Exterior1st_NaN</th>\n",
       "      <th>Exterior2nd_NaN</th>\n",
       "      <th>MasVnrType_None</th>\n",
       "      <th>Foundation_PConc</th>\n",
       "      <th>GarageType_Detchd</th>\n",
       "      <th>GarageFinish_Fin</th>\n",
       "      <th>GarageFinish_Unf</th>\n",
       "      <th>SaleType_NaN</th>\n",
       "      <th>SaleType_New</th>\n",
       "      <th>SaleCondition_Partial</th>\n",
       "    </tr>\n",
       "  </thead>\n",
       "  <tbody>\n",
       "    <tr>\n",
       "      <th>0</th>\n",
       "      <td>7</td>\n",
       "      <td>2003</td>\n",
       "      <td>2003</td>\n",
       "      <td>196.0</td>\n",
       "      <td>3.0</td>\n",
       "      <td>3.0</td>\n",
       "      <td>3.0</td>\n",
       "      <td>706.0</td>\n",
       "      <td>856.0</td>\n",
       "      <td>4.0</td>\n",
       "      <td>...</td>\n",
       "      <td>0</td>\n",
       "      <td>0</td>\n",
       "      <td>0</td>\n",
       "      <td>1</td>\n",
       "      <td>0</td>\n",
       "      <td>0</td>\n",
       "      <td>0</td>\n",
       "      <td>0</td>\n",
       "      <td>0</td>\n",
       "      <td>0</td>\n",
       "    </tr>\n",
       "    <tr>\n",
       "      <th>1</th>\n",
       "      <td>6</td>\n",
       "      <td>1976</td>\n",
       "      <td>1976</td>\n",
       "      <td>0.0</td>\n",
       "      <td>2.0</td>\n",
       "      <td>3.0</td>\n",
       "      <td>0.0</td>\n",
       "      <td>978.0</td>\n",
       "      <td>1262.0</td>\n",
       "      <td>4.0</td>\n",
       "      <td>...</td>\n",
       "      <td>0</td>\n",
       "      <td>0</td>\n",
       "      <td>1</td>\n",
       "      <td>0</td>\n",
       "      <td>0</td>\n",
       "      <td>0</td>\n",
       "      <td>0</td>\n",
       "      <td>0</td>\n",
       "      <td>0</td>\n",
       "      <td>0</td>\n",
       "    </tr>\n",
       "    <tr>\n",
       "      <th>2</th>\n",
       "      <td>7</td>\n",
       "      <td>2001</td>\n",
       "      <td>2002</td>\n",
       "      <td>162.0</td>\n",
       "      <td>3.0</td>\n",
       "      <td>3.0</td>\n",
       "      <td>2.0</td>\n",
       "      <td>486.0</td>\n",
       "      <td>920.0</td>\n",
       "      <td>4.0</td>\n",
       "      <td>...</td>\n",
       "      <td>0</td>\n",
       "      <td>0</td>\n",
       "      <td>0</td>\n",
       "      <td>1</td>\n",
       "      <td>0</td>\n",
       "      <td>0</td>\n",
       "      <td>0</td>\n",
       "      <td>0</td>\n",
       "      <td>0</td>\n",
       "      <td>0</td>\n",
       "    </tr>\n",
       "    <tr>\n",
       "      <th>3</th>\n",
       "      <td>7</td>\n",
       "      <td>1915</td>\n",
       "      <td>1970</td>\n",
       "      <td>0.0</td>\n",
       "      <td>2.0</td>\n",
       "      <td>2.0</td>\n",
       "      <td>3.0</td>\n",
       "      <td>216.0</td>\n",
       "      <td>756.0</td>\n",
       "      <td>3.0</td>\n",
       "      <td>...</td>\n",
       "      <td>0</td>\n",
       "      <td>0</td>\n",
       "      <td>1</td>\n",
       "      <td>0</td>\n",
       "      <td>1</td>\n",
       "      <td>0</td>\n",
       "      <td>1</td>\n",
       "      <td>0</td>\n",
       "      <td>0</td>\n",
       "      <td>0</td>\n",
       "    </tr>\n",
       "    <tr>\n",
       "      <th>4</th>\n",
       "      <td>8</td>\n",
       "      <td>2000</td>\n",
       "      <td>2000</td>\n",
       "      <td>350.0</td>\n",
       "      <td>3.0</td>\n",
       "      <td>3.0</td>\n",
       "      <td>1.0</td>\n",
       "      <td>655.0</td>\n",
       "      <td>1145.0</td>\n",
       "      <td>4.0</td>\n",
       "      <td>...</td>\n",
       "      <td>0</td>\n",
       "      <td>0</td>\n",
       "      <td>0</td>\n",
       "      <td>1</td>\n",
       "      <td>0</td>\n",
       "      <td>0</td>\n",
       "      <td>0</td>\n",
       "      <td>0</td>\n",
       "      <td>0</td>\n",
       "      <td>0</td>\n",
       "    </tr>\n",
       "  </tbody>\n",
       "</table>\n",
       "<p>5 rows × 31 columns</p>\n",
       "</div>"
      ],
      "text/plain": [
       "   OverallQual  YearBuilt  YearRemodAdd  MasVnrArea  ExterQual  BsmtQual  \\\n",
       "0            7       2003          2003       196.0        3.0       3.0   \n",
       "1            6       1976          1976         0.0        2.0       3.0   \n",
       "2            7       2001          2002       162.0        3.0       3.0   \n",
       "3            7       1915          1970         0.0        2.0       2.0   \n",
       "4            8       2000          2000       350.0        3.0       3.0   \n",
       "\n",
       "   BsmtExposure  BsmtFinSF1  TotalBsmtSF  HeatingQC  ...  Exterior1st_NaN  \\\n",
       "0           3.0       706.0        856.0        4.0  ...                0   \n",
       "1           0.0       978.0       1262.0        4.0  ...                0   \n",
       "2           2.0       486.0        920.0        4.0  ...                0   \n",
       "3           3.0       216.0        756.0        3.0  ...                0   \n",
       "4           1.0       655.0       1145.0        4.0  ...                0   \n",
       "\n",
       "   Exterior2nd_NaN  MasVnrType_None  Foundation_PConc  GarageType_Detchd  \\\n",
       "0                0                0                 1                  0   \n",
       "1                0                1                 0                  0   \n",
       "2                0                0                 1                  0   \n",
       "3                0                1                 0                  1   \n",
       "4                0                0                 1                  0   \n",
       "\n",
       "   GarageFinish_Fin  GarageFinish_Unf  SaleType_NaN  SaleType_New  \\\n",
       "0                 0                 0             0             0   \n",
       "1                 0                 0             0             0   \n",
       "2                 0                 0             0             0   \n",
       "3                 0                 1             0             0   \n",
       "4                 0                 0             0             0   \n",
       "\n",
       "   SaleCondition_Partial  \n",
       "0                      0  \n",
       "1                      0  \n",
       "2                      0  \n",
       "3                      0  \n",
       "4                      0  \n",
       "\n",
       "[5 rows x 31 columns]"
      ]
     },
     "execution_count": 4,
     "metadata": {},
     "output_type": "execute_result"
    },
    {
     "data": {
      "application/javascript": [
       "\n",
       "            setTimeout(function() {\n",
       "                var nbb_cell_id = 4;\n",
       "                var nbb_unformatted_code = \"train_set.head()\";\n",
       "                var nbb_formatted_code = \"train_set.head()\";\n",
       "                var nbb_cells = Jupyter.notebook.get_cells();\n",
       "                for (var i = 0; i < nbb_cells.length; ++i) {\n",
       "                    if (nbb_cells[i].input_prompt_number == nbb_cell_id) {\n",
       "                        if (nbb_cells[i].get_text() == nbb_unformatted_code) {\n",
       "                             nbb_cells[i].set_text(nbb_formatted_code);\n",
       "                        }\n",
       "                        break;\n",
       "                    }\n",
       "                }\n",
       "            }, 500);\n",
       "            "
      ],
      "text/plain": [
       "<IPython.core.display.Javascript object>"
      ]
     },
     "metadata": {},
     "output_type": "display_data"
    }
   ],
   "source": [
    "train_set.head()"
   ]
  },
  {
   "cell_type": "code",
   "execution_count": 5,
   "id": "eec0f588",
   "metadata": {
    "scrolled": true
   },
   "outputs": [
    {
     "data": {
      "text/html": [
       "<div>\n",
       "<style scoped>\n",
       "    .dataframe tbody tr th:only-of-type {\n",
       "        vertical-align: middle;\n",
       "    }\n",
       "\n",
       "    .dataframe tbody tr th {\n",
       "        vertical-align: top;\n",
       "    }\n",
       "\n",
       "    .dataframe thead th {\n",
       "        text-align: right;\n",
       "    }\n",
       "</style>\n",
       "<table border=\"1\" class=\"dataframe\">\n",
       "  <thead>\n",
       "    <tr style=\"text-align: right;\">\n",
       "      <th></th>\n",
       "      <th>OverallQual</th>\n",
       "      <th>YearBuilt</th>\n",
       "      <th>YearRemodAdd</th>\n",
       "      <th>MasVnrArea</th>\n",
       "      <th>ExterQual</th>\n",
       "      <th>BsmtQual</th>\n",
       "      <th>BsmtExposure</th>\n",
       "      <th>BsmtFinSF1</th>\n",
       "      <th>TotalBsmtSF</th>\n",
       "      <th>HeatingQC</th>\n",
       "      <th>...</th>\n",
       "      <th>Exterior1st_NaN</th>\n",
       "      <th>Exterior2nd_NaN</th>\n",
       "      <th>MasVnrType_None</th>\n",
       "      <th>Foundation_PConc</th>\n",
       "      <th>GarageType_Detchd</th>\n",
       "      <th>GarageFinish_Fin</th>\n",
       "      <th>GarageFinish_Unf</th>\n",
       "      <th>SaleType_NaN</th>\n",
       "      <th>SaleType_New</th>\n",
       "      <th>SaleCondition_Partial</th>\n",
       "    </tr>\n",
       "  </thead>\n",
       "  <tbody>\n",
       "    <tr>\n",
       "      <th>0</th>\n",
       "      <td>5</td>\n",
       "      <td>1961</td>\n",
       "      <td>1961</td>\n",
       "      <td>0.0</td>\n",
       "      <td>2.0</td>\n",
       "      <td>2.0</td>\n",
       "      <td>3.0</td>\n",
       "      <td>468.0</td>\n",
       "      <td>882.0</td>\n",
       "      <td>2.0</td>\n",
       "      <td>...</td>\n",
       "      <td>0</td>\n",
       "      <td>0</td>\n",
       "      <td>1</td>\n",
       "      <td>0</td>\n",
       "      <td>0</td>\n",
       "      <td>0</td>\n",
       "      <td>1</td>\n",
       "      <td>0</td>\n",
       "      <td>0</td>\n",
       "      <td>0</td>\n",
       "    </tr>\n",
       "    <tr>\n",
       "      <th>1</th>\n",
       "      <td>6</td>\n",
       "      <td>1958</td>\n",
       "      <td>1958</td>\n",
       "      <td>108.0</td>\n",
       "      <td>2.0</td>\n",
       "      <td>2.0</td>\n",
       "      <td>3.0</td>\n",
       "      <td>923.0</td>\n",
       "      <td>1329.0</td>\n",
       "      <td>2.0</td>\n",
       "      <td>...</td>\n",
       "      <td>0</td>\n",
       "      <td>0</td>\n",
       "      <td>0</td>\n",
       "      <td>0</td>\n",
       "      <td>0</td>\n",
       "      <td>0</td>\n",
       "      <td>1</td>\n",
       "      <td>0</td>\n",
       "      <td>0</td>\n",
       "      <td>0</td>\n",
       "    </tr>\n",
       "    <tr>\n",
       "      <th>2</th>\n",
       "      <td>5</td>\n",
       "      <td>1997</td>\n",
       "      <td>1998</td>\n",
       "      <td>0.0</td>\n",
       "      <td>2.0</td>\n",
       "      <td>3.0</td>\n",
       "      <td>3.0</td>\n",
       "      <td>791.0</td>\n",
       "      <td>928.0</td>\n",
       "      <td>3.0</td>\n",
       "      <td>...</td>\n",
       "      <td>0</td>\n",
       "      <td>0</td>\n",
       "      <td>1</td>\n",
       "      <td>1</td>\n",
       "      <td>0</td>\n",
       "      <td>1</td>\n",
       "      <td>0</td>\n",
       "      <td>0</td>\n",
       "      <td>0</td>\n",
       "      <td>0</td>\n",
       "    </tr>\n",
       "    <tr>\n",
       "      <th>3</th>\n",
       "      <td>6</td>\n",
       "      <td>1998</td>\n",
       "      <td>1998</td>\n",
       "      <td>20.0</td>\n",
       "      <td>2.0</td>\n",
       "      <td>2.0</td>\n",
       "      <td>3.0</td>\n",
       "      <td>602.0</td>\n",
       "      <td>926.0</td>\n",
       "      <td>4.0</td>\n",
       "      <td>...</td>\n",
       "      <td>0</td>\n",
       "      <td>0</td>\n",
       "      <td>0</td>\n",
       "      <td>1</td>\n",
       "      <td>0</td>\n",
       "      <td>1</td>\n",
       "      <td>0</td>\n",
       "      <td>0</td>\n",
       "      <td>0</td>\n",
       "      <td>0</td>\n",
       "    </tr>\n",
       "    <tr>\n",
       "      <th>4</th>\n",
       "      <td>8</td>\n",
       "      <td>1992</td>\n",
       "      <td>1992</td>\n",
       "      <td>0.0</td>\n",
       "      <td>3.0</td>\n",
       "      <td>3.0</td>\n",
       "      <td>3.0</td>\n",
       "      <td>263.0</td>\n",
       "      <td>1280.0</td>\n",
       "      <td>4.0</td>\n",
       "      <td>...</td>\n",
       "      <td>0</td>\n",
       "      <td>0</td>\n",
       "      <td>1</td>\n",
       "      <td>1</td>\n",
       "      <td>0</td>\n",
       "      <td>0</td>\n",
       "      <td>0</td>\n",
       "      <td>0</td>\n",
       "      <td>0</td>\n",
       "      <td>0</td>\n",
       "    </tr>\n",
       "  </tbody>\n",
       "</table>\n",
       "<p>5 rows × 31 columns</p>\n",
       "</div>"
      ],
      "text/plain": [
       "   OverallQual  YearBuilt  YearRemodAdd  MasVnrArea  ExterQual  BsmtQual  \\\n",
       "0            5       1961          1961         0.0        2.0       2.0   \n",
       "1            6       1958          1958       108.0        2.0       2.0   \n",
       "2            5       1997          1998         0.0        2.0       3.0   \n",
       "3            6       1998          1998        20.0        2.0       2.0   \n",
       "4            8       1992          1992         0.0        3.0       3.0   \n",
       "\n",
       "   BsmtExposure  BsmtFinSF1  TotalBsmtSF  HeatingQC  ...  Exterior1st_NaN  \\\n",
       "0           3.0       468.0        882.0        2.0  ...                0   \n",
       "1           3.0       923.0       1329.0        2.0  ...                0   \n",
       "2           3.0       791.0        928.0        3.0  ...                0   \n",
       "3           3.0       602.0        926.0        4.0  ...                0   \n",
       "4           3.0       263.0       1280.0        4.0  ...                0   \n",
       "\n",
       "   Exterior2nd_NaN  MasVnrType_None  Foundation_PConc  GarageType_Detchd  \\\n",
       "0                0                1                 0                  0   \n",
       "1                0                0                 0                  0   \n",
       "2                0                1                 1                  0   \n",
       "3                0                0                 1                  0   \n",
       "4                0                1                 1                  0   \n",
       "\n",
       "   GarageFinish_Fin  GarageFinish_Unf  SaleType_NaN  SaleType_New  \\\n",
       "0                 0                 1             0             0   \n",
       "1                 0                 1             0             0   \n",
       "2                 1                 0             0             0   \n",
       "3                 1                 0             0             0   \n",
       "4                 0                 0             0             0   \n",
       "\n",
       "   SaleCondition_Partial  \n",
       "0                      0  \n",
       "1                      0  \n",
       "2                      0  \n",
       "3                      0  \n",
       "4                      0  \n",
       "\n",
       "[5 rows x 31 columns]"
      ]
     },
     "execution_count": 5,
     "metadata": {},
     "output_type": "execute_result"
    },
    {
     "data": {
      "application/javascript": [
       "\n",
       "            setTimeout(function() {\n",
       "                var nbb_cell_id = 5;\n",
       "                var nbb_unformatted_code = \"test_set.head()\";\n",
       "                var nbb_formatted_code = \"test_set.head()\";\n",
       "                var nbb_cells = Jupyter.notebook.get_cells();\n",
       "                for (var i = 0; i < nbb_cells.length; ++i) {\n",
       "                    if (nbb_cells[i].input_prompt_number == nbb_cell_id) {\n",
       "                        if (nbb_cells[i].get_text() == nbb_unformatted_code) {\n",
       "                             nbb_cells[i].set_text(nbb_formatted_code);\n",
       "                        }\n",
       "                        break;\n",
       "                    }\n",
       "                }\n",
       "            }, 500);\n",
       "            "
      ],
      "text/plain": [
       "<IPython.core.display.Javascript object>"
      ]
     },
     "metadata": {},
     "output_type": "display_data"
    }
   ],
   "source": [
    "test_set.head()"
   ]
  },
  {
   "cell_type": "markdown",
   "id": "0ef2722f",
   "metadata": {},
   "source": [
    "Now the datasets is loaded into their own separate dataframes we will continue on to the Standardization <br>\n",
    "First separate the data into X_train, y_train, X_test, and y_test splits separating the target variable from the rest of the data."
   ]
  },
  {
   "cell_type": "code",
   "execution_count": 6,
   "id": "4078a8a3",
   "metadata": {},
   "outputs": [
    {
     "data": {
      "application/javascript": [
       "\n",
       "            setTimeout(function() {\n",
       "                var nbb_cell_id = 6;\n",
       "                var nbb_unformatted_code = \"from sklearn.model_selection import train_test_split\\n\\n# Separate the features (X) and target variable (y) in train_set\\nX = train_set.drop(columns=[\\\"SalePrice\\\"])\\ny = train_set[\\\"SalePrice\\\"]\\n\\n# Split the data into training and testing sets\\nX_train, X_test, y_train, y_test = train_test_split(\\n    X, y, test_size=0.2, random_state=42\\n)\";\n",
       "                var nbb_formatted_code = \"from sklearn.model_selection import train_test_split\\n\\n# Separate the features (X) and target variable (y) in train_set\\nX = train_set.drop(columns=[\\\"SalePrice\\\"])\\ny = train_set[\\\"SalePrice\\\"]\\n\\n# Split the data into training and testing sets\\nX_train, X_test, y_train, y_test = train_test_split(\\n    X, y, test_size=0.2, random_state=42\\n)\";\n",
       "                var nbb_cells = Jupyter.notebook.get_cells();\n",
       "                for (var i = 0; i < nbb_cells.length; ++i) {\n",
       "                    if (nbb_cells[i].input_prompt_number == nbb_cell_id) {\n",
       "                        if (nbb_cells[i].get_text() == nbb_unformatted_code) {\n",
       "                             nbb_cells[i].set_text(nbb_formatted_code);\n",
       "                        }\n",
       "                        break;\n",
       "                    }\n",
       "                }\n",
       "            }, 500);\n",
       "            "
      ],
      "text/plain": [
       "<IPython.core.display.Javascript object>"
      ]
     },
     "metadata": {},
     "output_type": "display_data"
    }
   ],
   "source": [
    "from sklearn.model_selection import train_test_split\n",
    "\n",
    "# Separate the features (X) and target variable (y) in train_set\n",
    "X = train_set.drop(columns=[\"SalePrice\"])\n",
    "y = train_set[\"SalePrice\"]\n",
    "\n",
    "# Split the data into training and testing sets\n",
    "X_train, X_test, y_train, y_test = train_test_split(\n",
    "    X, y, test_size=0.2, random_state=42\n",
    ")"
   ]
  },
  {
   "cell_type": "markdown",
   "id": "df0330ae",
   "metadata": {},
   "source": [
    "Here the standard scaler object will be instantiated and fit to the training data. Which will then allow us to transform the test data"
   ]
  },
  {
   "cell_type": "code",
   "execution_count": 7,
   "id": "28776ea9",
   "metadata": {},
   "outputs": [
    {
     "data": {
      "application/javascript": [
       "\n",
       "            setTimeout(function() {\n",
       "                var nbb_cell_id = 7;\n",
       "                var nbb_unformatted_code = \"# Train the StandardScaler on the training features (X_train)\\nscaler = StandardScaler()\\nX_train_std = scaler.fit_transform(X_train)\\n\\n# Transform both the training features (X_train) and testing features (X_test) using the trained scaler\\nX_test_std = scaler.transform(X_test)\";\n",
       "                var nbb_formatted_code = \"# Train the StandardScaler on the training features (X_train)\\nscaler = StandardScaler()\\nX_train_std = scaler.fit_transform(X_train)\\n\\n# Transform both the training features (X_train) and testing features (X_test) using the trained scaler\\nX_test_std = scaler.transform(X_test)\";\n",
       "                var nbb_cells = Jupyter.notebook.get_cells();\n",
       "                for (var i = 0; i < nbb_cells.length; ++i) {\n",
       "                    if (nbb_cells[i].input_prompt_number == nbb_cell_id) {\n",
       "                        if (nbb_cells[i].get_text() == nbb_unformatted_code) {\n",
       "                             nbb_cells[i].set_text(nbb_formatted_code);\n",
       "                        }\n",
       "                        break;\n",
       "                    }\n",
       "                }\n",
       "            }, 500);\n",
       "            "
      ],
      "text/plain": [
       "<IPython.core.display.Javascript object>"
      ]
     },
     "metadata": {},
     "output_type": "display_data"
    }
   ],
   "source": [
    "# Train the StandardScaler on the training features (X_train)\n",
    "scaler = StandardScaler()\n",
    "X_train_std = scaler.fit_transform(X_train)\n",
    "\n",
    "# Transform both the training features (X_train) and testing features (X_test) using the trained scaler\n",
    "X_test_std = scaler.transform(X_test)"
   ]
  },
  {
   "cell_type": "markdown",
   "id": "0683914b",
   "metadata": {},
   "source": [
    "The test_set that will be used only for final evaluation of models also needs to be normalized and then do PCA as well. Drop the target variable from this before transforming."
   ]
  },
  {
   "cell_type": "code",
   "execution_count": 8,
   "id": "cc426f5e",
   "metadata": {},
   "outputs": [
    {
     "data": {
      "application/javascript": [
       "\n",
       "            setTimeout(function() {\n",
       "                var nbb_cell_id = 8;\n",
       "                var nbb_unformatted_code = \"test_set_no_target = test_set.drop(columns=[\\\"SalePrice\\\"])\\nfinal_eval_set = scaler.transform(test_set_no_target)\";\n",
       "                var nbb_formatted_code = \"test_set_no_target = test_set.drop(columns=[\\\"SalePrice\\\"])\\nfinal_eval_set = scaler.transform(test_set_no_target)\";\n",
       "                var nbb_cells = Jupyter.notebook.get_cells();\n",
       "                for (var i = 0; i < nbb_cells.length; ++i) {\n",
       "                    if (nbb_cells[i].input_prompt_number == nbb_cell_id) {\n",
       "                        if (nbb_cells[i].get_text() == nbb_unformatted_code) {\n",
       "                             nbb_cells[i].set_text(nbb_formatted_code);\n",
       "                        }\n",
       "                        break;\n",
       "                    }\n",
       "                }\n",
       "            }, 500);\n",
       "            "
      ],
      "text/plain": [
       "<IPython.core.display.Javascript object>"
      ]
     },
     "metadata": {},
     "output_type": "display_data"
    }
   ],
   "source": [
    "test_set_no_target = test_set.drop(columns=[\"SalePrice\"])\n",
    "final_eval_set = scaler.transform(test_set_no_target)"
   ]
  },
  {
   "cell_type": "markdown",
   "id": "7a2e6571",
   "metadata": {},
   "source": [
    "Now that the data has been standardized we will take a look at a histogram of the square feet area of homes before moving on to PCA "
   ]
  },
  {
   "cell_type": "code",
   "execution_count": 9,
   "id": "0b3b40ae",
   "metadata": {
    "scrolled": false
   },
   "outputs": [
    {
     "data": {
      "image/png": "[encoded data removed]",
      "text/plain": [
       "<Figure size 640x480 with 1 Axes>"
      ]
     },
     "metadata": {},
     "output_type": "display_data"
    },
    {
     "data": {
      "application/javascript": [
       "\n",
       "            setTimeout(function() {\n",
       "                var nbb_cell_id = 9;\n",
       "                var nbb_unformatted_code = \"# Find the column index of the square feet feature (GrLivArea) using iloc\\nsqft_feature_index = X_train.columns.get_loc(\\\"GrLivArea\\\")\\n\\n# Plot the histogram for the square feet feature\\nplt.hist(X_train_std[:, sqft_feature_index], bins=20)\\nplt.xlabel(\\\"Standardized Square Feet (GrLivArea)\\\")\\nplt.ylabel(\\\"Frequency\\\")\\nplt.title(\\\"Histogram of Standardized Square Feet\\\")\\nplt.show()\";\n",
       "                var nbb_formatted_code = \"# Find the column index of the square feet feature (GrLivArea) using iloc\\nsqft_feature_index = X_train.columns.get_loc(\\\"GrLivArea\\\")\\n\\n# Plot the histogram for the square feet feature\\nplt.hist(X_train_std[:, sqft_feature_index], bins=20)\\nplt.xlabel(\\\"Standardized Square Feet (GrLivArea)\\\")\\nplt.ylabel(\\\"Frequency\\\")\\nplt.title(\\\"Histogram of Standardized Square Feet\\\")\\nplt.show()\";\n",
       "                var nbb_cells = Jupyter.notebook.get_cells();\n",
       "                for (var i = 0; i < nbb_cells.length; ++i) {\n",
       "                    if (nbb_cells[i].input_prompt_number == nbb_cell_id) {\n",
       "                        if (nbb_cells[i].get_text() == nbb_unformatted_code) {\n",
       "                             nbb_cells[i].set_text(nbb_formatted_code);\n",
       "                        }\n",
       "                        break;\n",
       "                    }\n",
       "                }\n",
       "            }, 500);\n",
       "            "
      ],
      "text/plain": [
       "<IPython.core.display.Javascript object>"
      ]
     },
     "metadata": {},
     "output_type": "display_data"
    }
   ],
   "source": [
    "# Find the column index of the square feet feature (GrLivArea) using iloc\n",
    "sqft_feature_index = X_train.columns.get_loc(\"GrLivArea\")\n",
    "\n",
    "# Plot the histogram for the square feet feature\n",
    "plt.hist(X_train_std[:, sqft_feature_index], bins=20)\n",
    "plt.xlabel(\"Standardized Square Feet (GrLivArea)\")\n",
    "plt.ylabel(\"Frequency\")\n",
    "plt.title(\"Histogram of Standardized Square Feet\")\n",
    "plt.show()"
   ]
  },
  {
   "cell_type": "markdown",
   "id": "643e2657",
   "metadata": {},
   "source": [
    "Instantiate PCA and set n_components to 0.9 to retain enough principal components to explain 90% of the variance in the data."
   ]
  },
  {
   "cell_type": "code",
   "execution_count": 10,
   "id": "1accb521",
   "metadata": {},
   "outputs": [
    {
     "data": {
      "application/javascript": [
       "\n",
       "            setTimeout(function() {\n",
       "                var nbb_cell_id = 10;\n",
       "                var nbb_unformatted_code = \"pca = PCA(n_components=8)\\n\\n# Fit and transform the standardized training data\\nX_train_pca = pca.fit_transform(X_train_std)\\n\\n# Transform the standardized test data using the same PCA transformation\\nX_test_pca = pca.transform(X_test_std)\\n\\nfinal_eval_pca = pca.transform(final_eval_set)\";\n",
       "                var nbb_formatted_code = \"pca = PCA(n_components=8)\\n\\n# Fit and transform the standardized training data\\nX_train_pca = pca.fit_transform(X_train_std)\\n\\n# Transform the standardized test data using the same PCA transformation\\nX_test_pca = pca.transform(X_test_std)\\n\\nfinal_eval_pca = pca.transform(final_eval_set)\";\n",
       "                var nbb_cells = Jupyter.notebook.get_cells();\n",
       "                for (var i = 0; i < nbb_cells.length; ++i) {\n",
       "                    if (nbb_cells[i].input_prompt_number == nbb_cell_id) {\n",
       "                        if (nbb_cells[i].get_text() == nbb_unformatted_code) {\n",
       "                             nbb_cells[i].set_text(nbb_formatted_code);\n",
       "                        }\n",
       "                        break;\n",
       "                    }\n",
       "                }\n",
       "            }, 500);\n",
       "            "
      ],
      "text/plain": [
       "<IPython.core.display.Javascript object>"
      ]
     },
     "metadata": {},
     "output_type": "display_data"
    }
   ],
   "source": [
    "pca = PCA(n_components=8)\n",
    "\n",
    "# Fit and transform the standardized training data\n",
    "X_train_pca = pca.fit_transform(X_train_std)\n",
    "\n",
    "# Transform the standardized test data using the same PCA transformation\n",
    "X_test_pca = pca.transform(X_test_std)\n",
    "\n",
    "final_eval_pca = pca.transform(final_eval_set)"
   ]
  },
  {
   "cell_type": "markdown",
   "id": "6d0fb0ce",
   "metadata": {},
   "source": [
    "The explained_variance_ratio_ variable contains the proportion of total variance explained by each principal component. By cumulatively summing these ratios, we can understand the cumulative variance explained by a given number of principal components."
   ]
  },
  {
   "cell_type": "code",
   "execution_count": 11,
   "id": "00952c33",
   "metadata": {},
   "outputs": [
    {
     "data": {
      "text/plain": [
       "array([0.35795147, 0.09257084, 0.06792183, 0.06251102, 0.05045082,\n",
       "       0.04854273, 0.03486216, 0.0316015 ])"
      ]
     },
     "execution_count": 11,
     "metadata": {},
     "output_type": "execute_result"
    },
    {
     "data": {
      "application/javascript": [
       "\n",
       "            setTimeout(function() {\n",
       "                var nbb_cell_id = 11;\n",
       "                var nbb_unformatted_code = \"# Variance explained\\nexplained_variance = pca.explained_variance_ratio_\\n\\n# Cumulative variance explained\\ncumulative_variance = np.cumsum(explained_variance)\\n\\nexplained_variance\";\n",
       "                var nbb_formatted_code = \"# Variance explained\\nexplained_variance = pca.explained_variance_ratio_\\n\\n# Cumulative variance explained\\ncumulative_variance = np.cumsum(explained_variance)\\n\\nexplained_variance\";\n",
       "                var nbb_cells = Jupyter.notebook.get_cells();\n",
       "                for (var i = 0; i < nbb_cells.length; ++i) {\n",
       "                    if (nbb_cells[i].input_prompt_number == nbb_cell_id) {\n",
       "                        if (nbb_cells[i].get_text() == nbb_unformatted_code) {\n",
       "                             nbb_cells[i].set_text(nbb_formatted_code);\n",
       "                        }\n",
       "                        break;\n",
       "                    }\n",
       "                }\n",
       "            }, 500);\n",
       "            "
      ],
      "text/plain": [
       "<IPython.core.display.Javascript object>"
      ]
     },
     "metadata": {},
     "output_type": "display_data"
    }
   ],
   "source": [
    "# Variance explained\n",
    "explained_variance = pca.explained_variance_ratio_\n",
    "\n",
    "# Cumulative variance explained\n",
    "cumulative_variance = np.cumsum(explained_variance)\n",
    "\n",
    "explained_variance"
   ]
  },
  {
   "cell_type": "markdown",
   "id": "473f0559",
   "metadata": {},
   "source": [
    "# PCA Visualizations"
   ]
  },
  {
   "cell_type": "markdown",
   "id": "30b643f8",
   "metadata": {},
   "source": [
    "Below are two plots that illustrate the importance of principal components in our data. The first plot shows the explained variance ratio by each individual principal component, helping us understand how much information each component captures on its own. The second plot displays the cumulative explained variance, which allows us to visualize how much of the total variance in the data is accounted for as we include additional principal components. These plots will aid in determining the optimal number of principal components to retain while preserving the most significant information from the original data"
   ]
  },
  {
   "cell_type": "code",
   "execution_count": 12,
   "id": "c010ccb3",
   "metadata": {
    "scrolled": false
   },
   "outputs": [
    {
     "data": {
      "image/png": "[encoded data removed]",
      "text/plain": [
       "<Figure size 640x480 with 1 Axes>"
      ]
     },
     "metadata": {},
     "output_type": "display_data"
    },
    {
     "data": {
      "application/javascript": [
       "\n",
       "            setTimeout(function() {\n",
       "                var nbb_cell_id = 12;\n",
       "                var nbb_unformatted_code = \"plt.plot(range(1, len(explained_variance) + 1), explained_variance, \\\"bo-\\\")\\nplt.xlabel(\\\"Principal Components\\\")\\nplt.ylabel(\\\"Explained Variance Ratio\\\")\\nplt.title(\\\"Explained Variance Ratio by Principal Components\\\")\\nplt.show()\";\n",
       "                var nbb_formatted_code = \"plt.plot(range(1, len(explained_variance) + 1), explained_variance, \\\"bo-\\\")\\nplt.xlabel(\\\"Principal Components\\\")\\nplt.ylabel(\\\"Explained Variance Ratio\\\")\\nplt.title(\\\"Explained Variance Ratio by Principal Components\\\")\\nplt.show()\";\n",
       "                var nbb_cells = Jupyter.notebook.get_cells();\n",
       "                for (var i = 0; i < nbb_cells.length; ++i) {\n",
       "                    if (nbb_cells[i].input_prompt_number == nbb_cell_id) {\n",
       "                        if (nbb_cells[i].get_text() == nbb_unformatted_code) {\n",
       "                             nbb_cells[i].set_text(nbb_formatted_code);\n",
       "                        }\n",
       "                        break;\n",
       "                    }\n",
       "                }\n",
       "            }, 500);\n",
       "            "
      ],
      "text/plain": [
       "<IPython.core.display.Javascript object>"
      ]
     },
     "metadata": {},
     "output_type": "display_data"
    }
   ],
   "source": [
    "plt.plot(range(1, len(explained_variance) + 1), explained_variance, \"bo-\")\n",
    "plt.xlabel(\"Principal Components\")\n",
    "plt.ylabel(\"Explained Variance Ratio\")\n",
    "plt.title(\"Explained Variance Ratio by Principal Components\")\n",
    "plt.show()"
   ]
  },
  {
   "cell_type": "code",
   "execution_count": 13,
   "id": "e502f25a",
   "metadata": {
    "scrolled": true
   },
   "outputs": [
    {
     "data": {
      "image/png": "[encoded data removed]",
      "text/plain": [
       "<Figure size 640x480 with 1 Axes>"
      ]
     },
     "metadata": {},
     "output_type": "display_data"
    },
    {
     "data": {
      "application/javascript": [
       "\n",
       "            setTimeout(function() {\n",
       "                var nbb_cell_id = 13;\n",
       "                var nbb_unformatted_code = \"# Plot the cumulative explained variance\\nplt.plot(range(1, len(cumulative_variance) + 1), cumulative_variance, \\\"bo-\\\")\\nplt.xlabel(\\\"Principal Components\\\")\\nplt.ylabel(\\\"Cumulative Explained Variance\\\")\\nplt.title(\\\"Cumulative Explained Variance by Principal Components\\\")\\nplt.show()\";\n",
       "                var nbb_formatted_code = \"# Plot the cumulative explained variance\\nplt.plot(range(1, len(cumulative_variance) + 1), cumulative_variance, \\\"bo-\\\")\\nplt.xlabel(\\\"Principal Components\\\")\\nplt.ylabel(\\\"Cumulative Explained Variance\\\")\\nplt.title(\\\"Cumulative Explained Variance by Principal Components\\\")\\nplt.show()\";\n",
       "                var nbb_cells = Jupyter.notebook.get_cells();\n",
       "                for (var i = 0; i < nbb_cells.length; ++i) {\n",
       "                    if (nbb_cells[i].input_prompt_number == nbb_cell_id) {\n",
       "                        if (nbb_cells[i].get_text() == nbb_unformatted_code) {\n",
       "                             nbb_cells[i].set_text(nbb_formatted_code);\n",
       "                        }\n",
       "                        break;\n",
       "                    }\n",
       "                }\n",
       "            }, 500);\n",
       "            "
      ],
      "text/plain": [
       "<IPython.core.display.Javascript object>"
      ]
     },
     "metadata": {},
     "output_type": "display_data"
    }
   ],
   "source": [
    "# Plot the cumulative explained variance\n",
    "plt.plot(range(1, len(cumulative_variance) + 1), cumulative_variance, \"bo-\")\n",
    "plt.xlabel(\"Principal Components\")\n",
    "plt.ylabel(\"Cumulative Explained Variance\")\n",
    "plt.title(\"Cumulative Explained Variance by Principal Components\")\n",
    "plt.show()"
   ]
  },
  {
   "cell_type": "markdown",
   "id": "74fa6d30",
   "metadata": {},
   "source": [
    " It takes 8 components to explain approximately 75.64% of the total variance in the dataset. These 8 components collectively capture a substantial amount of the variability present in the original features, suggesting they are valuable for predicting the target variable, sales price. On the other hand, the remaining components beyond the first 8 contribute relatively less to the overall variance explained. By focusing on these 8 important components, we can effectively reduce the dimensionality of the data while retaining key information for predicting house prices."
   ]
  },
  {
   "cell_type": "markdown",
   "id": "97d1c953",
   "metadata": {},
   "source": [
    "# Save the datasets"
   ]
  },
  {
   "cell_type": "code",
   "execution_count": 14,
   "id": "9ad8837d",
   "metadata": {},
   "outputs": [
    {
     "data": {
      "application/javascript": [
       "\n",
       "            setTimeout(function() {\n",
       "                var nbb_cell_id = 14;\n",
       "                var nbb_unformatted_code = \"# Convert transformed arrays to dataframes\\nX_train_pca_df = pd.DataFrame(X_train_pca)\\nX_test_pca_df = pd.DataFrame(X_test_pca)\\nfinal_eval_pca_df = pd.DataFrame(final_eval_pca)\\n\\n# Save dataframes to CSV files\\nX_train_pca_df.to_csv(\\\"X_train_pca.csv\\\", index=False)\\nX_test_pca_df.to_csv(\\\"X_test_pca.csv\\\", index=False)\\nfinal_eval_pca_df.to_csv(\\\"final_eval_pca.csv\\\", index=False)\\n\\n# Save the target variable for the training data to a CSV file\\ny_train.to_csv(\\\"y_train.csv\\\", index=False)\\n\\n# Save the target variable for the testing data to a CSV file\\ny_test.to_csv(\\\"y_test.csv\\\", index=False)\";\n",
       "                var nbb_formatted_code = \"# Convert transformed arrays to dataframes\\nX_train_pca_df = pd.DataFrame(X_train_pca)\\nX_test_pca_df = pd.DataFrame(X_test_pca)\\nfinal_eval_pca_df = pd.DataFrame(final_eval_pca)\\n\\n# Save dataframes to CSV files\\nX_train_pca_df.to_csv(\\\"X_train_pca.csv\\\", index=False)\\nX_test_pca_df.to_csv(\\\"X_test_pca.csv\\\", index=False)\\nfinal_eval_pca_df.to_csv(\\\"final_eval_pca.csv\\\", index=False)\\n\\n# Save the target variable for the training data to a CSV file\\ny_train.to_csv(\\\"y_train.csv\\\", index=False)\\n\\n# Save the target variable for the testing data to a CSV file\\ny_test.to_csv(\\\"y_test.csv\\\", index=False)\";\n",
       "                var nbb_cells = Jupyter.notebook.get_cells();\n",
       "                for (var i = 0; i < nbb_cells.length; ++i) {\n",
       "                    if (nbb_cells[i].input_prompt_number == nbb_cell_id) {\n",
       "                        if (nbb_cells[i].get_text() == nbb_unformatted_code) {\n",
       "                             nbb_cells[i].set_text(nbb_formatted_code);\n",
       "                        }\n",
       "                        break;\n",
       "                    }\n",
       "                }\n",
       "            }, 500);\n",
       "            "
      ],
      "text/plain": [
       "<IPython.core.display.Javascript object>"
      ]
     },
     "metadata": {},
     "output_type": "display_data"
    }
   ],
   "source": [
    "# Convert transformed arrays to dataframes\n",
    "X_train_pca_df = pd.DataFrame(X_train_pca)\n",
    "X_test_pca_df = pd.DataFrame(X_test_pca)\n",
    "final_eval_pca_df = pd.DataFrame(final_eval_pca)\n",
    "\n",
    "# Save dataframes to CSV files\n",
    "X_train_pca_df.to_csv(\"X_train_pca.csv\", index=False)\n",
    "X_test_pca_df.to_csv(\"X_test_pca.csv\", index=False)\n",
    "final_eval_pca_df.to_csv(\"final_eval_pca.csv\", index=False)\n",
    "\n",
    "# Save the target variable for the training data to a CSV file\n",
    "y_train.to_csv(\"y_train.csv\", index=False)\n",
    "\n",
    "# Save the target variable for the testing data to a CSV file\n",
    "y_test.to_csv(\"y_test.csv\", index=False)"
   ]
  },
  {
   "cell_type": "code",
   "execution_count": 15,
   "id": "8370eaf0",
   "metadata": {},
   "outputs": [
    {
     "name": "stdout",
     "output_type": "stream",
     "text": [
      "Root Mean Squared Error (RMSE) for Linear Regression with Square Feet only: 58471.75652552955\n",
      "R-squared for Linear Regression with Square Feet only: 0.5542632452871117\n"
     ]
    },
    {
     "data": {
      "application/javascript": [
       "\n",
       "            setTimeout(function() {\n",
       "                var nbb_cell_id = 15;\n",
       "                var nbb_unformatted_code = \"from sklearn.linear_model import LinearRegression\\nfrom sklearn.metrics import mean_squared_error, r2_score\\n\\n# Select the 'GrLivArea' feature as the predictor\\nX_train_sqft = X_train['GrLivArea'].values.reshape(-1, 1)\\nX_test_sqft = X_test['GrLivArea'].values.reshape(-1, 1)\\n\\n# Create a linear regression object\\nregr = LinearRegression()\\n\\n# Fit the model to the training data\\nmodel = regr.fit(X_train_sqft, y_train)\\n\\n# Make predictions on the test set\\ny_pred_sqft = model.predict(X_test_sqft)\\n\\n# Calculate RMSE\\nrmse_sqft = np.sqrt(mean_squared_error(y_test, y_pred_sqft))\\nprint(\\\"Root Mean Squared Error (RMSE) for Linear Regression with Square Feet only:\\\", rmse_sqft)\\n\\n# Calculate R-squared\\nr2_sqft = r2_score(y_test, y_pred_sqft)\\nprint(\\\"R-squared for Linear Regression with Square Feet only:\\\", r2_sqft)\";\n",
       "                var nbb_formatted_code = \"from sklearn.linear_model import LinearRegression\\nfrom sklearn.metrics import mean_squared_error, r2_score\\n\\n# Select the 'GrLivArea' feature as the predictor\\nX_train_sqft = X_train[\\\"GrLivArea\\\"].values.reshape(-1, 1)\\nX_test_sqft = X_test[\\\"GrLivArea\\\"].values.reshape(-1, 1)\\n\\n# Create a linear regression object\\nregr = LinearRegression()\\n\\n# Fit the model to the training data\\nmodel = regr.fit(X_train_sqft, y_train)\\n\\n# Make predictions on the test set\\ny_pred_sqft = model.predict(X_test_sqft)\\n\\n# Calculate RMSE\\nrmse_sqft = np.sqrt(mean_squared_error(y_test, y_pred_sqft))\\nprint(\\n    \\\"Root Mean Squared Error (RMSE) for Linear Regression with Square Feet only:\\\",\\n    rmse_sqft,\\n)\\n\\n# Calculate R-squared\\nr2_sqft = r2_score(y_test, y_pred_sqft)\\nprint(\\\"R-squared for Linear Regression with Square Feet only:\\\", r2_sqft)\";\n",
       "                var nbb_cells = Jupyter.notebook.get_cells();\n",
       "                for (var i = 0; i < nbb_cells.length; ++i) {\n",
       "                    if (nbb_cells[i].input_prompt_number == nbb_cell_id) {\n",
       "                        if (nbb_cells[i].get_text() == nbb_unformatted_code) {\n",
       "                             nbb_cells[i].set_text(nbb_formatted_code);\n",
       "                        }\n",
       "                        break;\n",
       "                    }\n",
       "                }\n",
       "            }, 500);\n",
       "            "
      ],
      "text/plain": [
       "<IPython.core.display.Javascript object>"
      ]
     },
     "metadata": {},
     "output_type": "display_data"
    }
   ],
   "source": [
    "from sklearn.linear_model import LinearRegression\n",
    "from sklearn.metrics import mean_squared_error, r2_score\n",
    "\n",
    "# Select the 'GrLivArea' feature as the predictor\n",
    "X_train_sqft = X_train['GrLivArea'].values.reshape(-1, 1)\n",
    "X_test_sqft = X_test['GrLivArea'].values.reshape(-1, 1)\n",
    "\n",
    "# Create a linear regression object\n",
    "regr = LinearRegression()\n",
    "\n",
    "# Fit the model to the training data\n",
    "model = regr.fit(X_train_sqft, y_train)\n",
    "\n",
    "# Make predictions on the test set\n",
    "y_pred_sqft = model.predict(X_test_sqft)\n",
    "\n",
    "# Calculate RMSE\n",
    "rmse_sqft = np.sqrt(mean_squared_error(y_test, y_pred_sqft))\n",
    "print(\"Root Mean Squared Error (RMSE) for Linear Regression with Square Feet only:\", rmse_sqft)\n",
    "\n",
    "# Calculate R-squared\n",
    "r2_sqft = r2_score(y_test, y_pred_sqft)\n",
    "print(\"R-squared for Linear Regression with Square Feet only:\", r2_sqft)\n"
   ]
  },
  {
   "cell_type": "markdown",
   "id": "cbd29444",
   "metadata": {},
   "source": [
    "This is the baseline using only a very highly correlated feature as the predictor. We will compare this baseline to the models created in the next notebook to see how well we can predict sales price."
   ]
  }
 ],
 "metadata": {
  "kernelspec": {
   "display_name": "Python 3 (ipykernel)",
   "language": "python",
   "name": "python3"
  },
  "language_info": {
   "codemirror_mode": {
    "name": "ipython",
    "version": 3
   },
   "file_extension": ".py",
   "mimetype": "text/x-python",
   "name": "python",
   "nbconvert_exporter": "python",
   "pygments_lexer": "ipython3",
   "version": "3.9.13"
  }
 },
 "nbformat": 4,
 "nbformat_minor": 5
}
